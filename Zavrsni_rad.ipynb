{
  "nbformat": 4,
  "nbformat_minor": 0,
  "metadata": {
    "colab": {
      "provenance": [],
      "authorship_tag": "ABX9TyNNZwhjZ0wexY8zkahVq9o0",
      "include_colab_link": true
    },
    "kernelspec": {
      "name": "python3",
      "display_name": "Python 3"
    },
    "language_info": {
      "name": "python"
    }
  },
  "cells": [
    {
      "cell_type": "markdown",
      "metadata": {
        "id": "view-in-github",
        "colab_type": "text"
      },
      "source": [
        "<a href=\"https://colab.research.google.com/github/vlunic00/Zavrsni_Rad_FESB_2022/blob/main/Zavrsni_rad.ipynb\" target=\"_parent\"><img src=\"https://colab.research.google.com/assets/colab-badge.svg\" alt=\"Open In Colab\"/></a>"
      ]
    },
    {
      "cell_type": "code",
      "execution_count": null,
      "metadata": {
        "id": "QIussmRB4Ov1"
      },
      "outputs": [],
      "source": [
        "import csv\n",
        "import random\n",
        "import math\n",
        "random.seed()\n",
        "import pandas as pd\n",
        "from google.colab import files\n",
        "uploaded = files.upload()\n",
        "\n",
        "\n",
        "#ucitavanje podataka iz datoteke\n",
        "gravity_data = pd.read_csv('dataset.csv')\n",
        "#spremanje podataka u dataframe (tablicu)\n",
        "df_location = pd.DataFrame(gravity_data)"
      ]
    },
    {
      "cell_type": "code",
      "source": [
        "from sklearn.model_selection import train_test_split\n",
        "\n",
        "#razdvajanje na train i test setove\n",
        "def split_data(data, target_name):\n",
        "  y = data[target_name]\n",
        "  X = data.drop(target_name, axis=1)\n",
        "  return train_test_split(X ,y, test_size=0.2, random_state=30)"
      ],
      "metadata": {
        "id": "n3uvrbEy5972"
      },
      "execution_count": null,
      "outputs": []
    },
    {
      "cell_type": "code",
      "source": [
        "#izrada, treniranje i evaluacija modela\n",
        "from sklearn.linear_model import LinearRegression\n",
        "from sklearn.preprocessing import PolynomialFeatures\n",
        "from sklearn.metrics import mean_squared_error, mean_absolute_error, r2_score\n",
        "from math import sqrt\n",
        "\n",
        "def train_eval_poly(X_train, X_test, y_train, y_test):\n",
        "  regression_model = LinearRegression()\n",
        "\n",
        "  #pretvoriti jednadzbu u linearnu tako da mozemo koristit LinearRegression model\n",
        "  poly = PolynomialFeatures(degree=2)\n",
        "  X_train_transform = poly.fit_transform(X_train)\n",
        "  X_test_transform = poly.fit_transform(X_test)\n",
        "\n",
        "  regression_model.fit(X_train_transform, y_train)\n",
        "\n",
        "  print(poly.fit(X_train).get_feature_names(X_train.columns))\n",
        "\n",
        "  y_pred = regression_model.predict(X_test_transform)\n",
        "  print(\"R2: \\t\", r2_score(y_test, y_pred))\n",
        "  print(\"RMSE: \\t\", sqrt(mean_squared_error(y_test, y_pred)))\n",
        "  print(\"MAE: \\t\", mean_absolute_error(y_test, y_pred))\n",
        "\n",
        "  return regression_model"
      ],
      "metadata": {
        "id": "zxgugtyw61p7"
      },
      "execution_count": null,
      "outputs": []
    },
    {
      "cell_type": "code",
      "source": [
        "#pokretanje modela\n",
        "df_split = split_data(df_location, 'location')\n",
        "lrModel = train_eval_poly(*df_split)"
      ],
      "metadata": {
        "id": "GGchRIo98Q8-"
      },
      "execution_count": null,
      "outputs": []
    },
    {
      "cell_type": "code",
      "source": [
        "lrModel.coef_"
      ],
      "metadata": {
        "id": "B58vLti_-2Jh"
      },
      "execution_count": null,
      "outputs": []
    }
  ]
}